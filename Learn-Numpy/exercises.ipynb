{
 "cells": [
  {
   "cell_type": "code",
   "execution_count": 1,
   "metadata": {},
   "outputs": [],
   "source": [
    "import numpy as np\n",
    "import matplotlib.pyplot as plt"
   ]
  },
  {
   "cell_type": "markdown",
   "metadata": {},
   "source": [
    "## Exercise 1\n",
    "\n",
    "By doing the following calculation, we actually found the eigenvalue for A whose corresponding eigenvalue is 1"
   ]
  },
  {
   "cell_type": "code",
   "execution_count": 9,
   "metadata": {},
   "outputs": [
    {
     "data": {
      "image/png": "[encoded data removed]",
      "text/plain": [
       "<Figure size 432x288 with 1 Axes>"
      ]
     },
     "metadata": {
      "needs_background": "light"
     },
     "output_type": "display_data"
    }
   ],
   "source": [
    "A = np.array([\n",
    "  [0.3, 0.6, 0.1],\n",
    "  [0.5, 0.2, 0.3],\n",
    "  [0.4, 0.1, 0.5]])\n",
    "\n",
    "# v = np.ones(3) / 3\n",
    "v = np.random.random(3)\n",
    "v /= v.sum()\n",
    "\n",
    "num_iters = 25\n",
    "euclidean_distances = np.zeros(num_iters)\n",
    "\n",
    "for i in range(num_iters):\n",
    "    v2 = v.dot(A)\n",
    "    d = np.linalg.norm(v2 - v)\n",
    "    euclidean_distances[i] = d\n",
    "    v = v2\n",
    "\n",
    "plt.plot(euclidean_distances)\n",
    "plt.show()"
   ]
  },
  {
   "cell_type": "markdown",
   "metadata": {},
   "source": [
    "## Exercise 2\n",
    "\n",
    "Demonstrate the central limit theorem(CLT)\n",
    "\n",
    "- plot histogram\n",
    "- find the expected mean and variance of Y"
   ]
  },
  {
   "cell_type": "code",
   "execution_count": 14,
   "metadata": {},
   "outputs": [
    {
     "data": {
      "image/png": "[encoded data removed]",
      "text/plain": [
       "<Figure size 432x288 with 1 Axes>"
      ]
     },
     "metadata": {
      "needs_background": "light"
     },
     "output_type": "display_data"
    }
   ],
   "source": [
    "def sample_Y(n=10000):\n",
    "    # draw n samples from uniform dist.\n",
    "    X = np.random.random(n)\n",
    "    Y = X.sum()\n",
    "    return Y\n",
    "\n",
    "\n",
    "N = 1000\n",
    "Y_samples = np.zeros(N)\n",
    "\n",
    "for i in range(N):\n",
    "    Y_samples[i] = sample_Y(N)\n",
    "\n",
    "\n",
    "# plot the Y_samples\n",
    "plt.hist(Y_samples, bins=100)\n",
    "plt.show()"
   ]
  },
  {
   "cell_type": "code",
   "execution_count": 17,
   "metadata": {},
   "outputs": [
    {
     "name": "stdout",
     "output_type": "stream",
     "text": [
      "500.14967627816895\n",
      "75.80760082560673\n"
     ]
    }
   ],
   "source": [
    "mu = np.mean(Y_samples)\n",
    "var = np.var(Y_samples)\n",
    "\n",
    "print(mu)\n",
    "print(var)"
   ]
  },
  {
   "cell_type": "markdown",
   "metadata": {},
   "source": [
    "## Exercise 3"
   ]
  },
  {
   "cell_type": "code",
   "execution_count": null,
   "metadata": {},
   "outputs": [],
   "source": []
  },
  {
   "cell_type": "markdown",
   "metadata": {},
   "source": [
    "## Exercise 4"
   ]
  },
  {
   "cell_type": "code",
   "execution_count": null,
   "metadata": {},
   "outputs": [],
   "source": []
  },
  {
   "cell_type": "markdown",
   "metadata": {},
   "source": [
    "## Exercise 5"
   ]
  },
  {
   "cell_type": "code",
   "execution_count": 20,
   "metadata": {},
   "outputs": [],
   "source": [
    "def is_symmetric_fast(A):\n",
    "    return np.all(A == A.T)\n",
    "\n",
    "\n",
    "def is_symmetric_slow(A):\n",
    "    rows, cols = A.shape\n",
    "    if rows != cols:\n",
    "        return False\n",
    "    \n",
    "    for i in range(rows):\n",
    "        for j in range(cols):\n",
    "            if A[i,j] != A[j,i]:\n",
    "                return False\n",
    "    \n",
    "    return True\n",
    "\n",
    "\n",
    "def check(A, flag):\n",
    "    print(\"Testing:\", A)\n",
    "    assert(is_symmetric_fast(A) == flag)\n",
    "    assert(is_symmetric_slow(A) == flag)"
   ]
  },
  {
   "cell_type": "code",
   "execution_count": 21,
   "metadata": {},
   "outputs": [
    {
     "name": "stdout",
     "output_type": "stream",
     "text": [
      "Testing: [[0. 0. 0.]\n",
      " [0. 0. 0.]\n",
      " [0. 0. 0.]]\n",
      "Testing: [[1. 0. 0.]\n",
      " [0. 1. 0.]\n",
      " [0. 0. 1.]]\n",
      "Testing: [[ 0.21878506 -0.00338663  0.40852857]\n",
      " [-0.00338663  0.23277579 -0.14906612]\n",
      " [ 0.40852857 -0.14906612  0.85038101]]\n",
      "Testing: [[1 2 3]\n",
      " [2 4 5]\n",
      " [3 5 6]]\n",
      "Testing: [[-0.36615327  0.41985746]\n",
      " [-0.50614818  0.3951584 ]\n",
      " [-0.84925675  0.72779451]]\n",
      "Testing: [[-1.6694405   0.57478053  0.26968147]\n",
      " [ 1.82163289 -0.6277938  -1.20200898]\n",
      " [ 0.63243497 -0.14141121  0.57137523]]\n",
      "Testing: [[0 1 2]\n",
      " [3 4 5]\n",
      " [6 7 8]]\n"
     ]
    },
    {
     "name": "stderr",
     "output_type": "stream",
     "text": [
      "/Users/wangshaofei/anaconda3/envs/AML/lib/python3.6/site-packages/ipykernel_launcher.py:2: DeprecationWarning: elementwise == comparison failed; this will raise an error in the future.\n",
      "  \n"
     ]
    }
   ],
   "source": [
    "# test the functions\n",
    "A = np.zeros((3, 3))\n",
    "check(A, True)\n",
    "\n",
    "A = np.eye(3)\n",
    "check(A, True)\n",
    "\n",
    "A = np.random.randn(3, 2)\n",
    "A = A.dot(A.T)\n",
    "check(A, True)\n",
    "\n",
    "A = np.array([[1, 2, 3], [2, 4, 5], [3, 5, 6]])\n",
    "check(A, True)\n",
    "\n",
    "A = np.random.randn(3, 2)\n",
    "check(A, False)\n",
    "\n",
    "A = np.random.randn(3, 3)\n",
    "check(A, False)\n",
    "\n",
    "A = np.arange(9).reshape(3, 3)\n",
    "check(A, False)"
   ]
  },
  {
   "cell_type": "markdown",
   "metadata": {},
   "source": [
    "## Exercise 6"
   ]
  },
  {
   "cell_type": "code",
   "execution_count": null,
   "metadata": {},
   "outputs": [],
   "source": []
  },
  {
   "cell_type": "code",
   "execution_count": null,
   "metadata": {},
   "outputs": [],
   "source": []
  },
  {
   "cell_type": "markdown",
   "metadata": {},
   "source": [
    "## Exercise 7"
   ]
  },
  {
   "cell_type": "code",
   "execution_count": null,
   "metadata": {},
   "outputs": [],
   "source": []
  },
  {
   "cell_type": "code",
   "execution_count": null,
   "metadata": {},
   "outputs": [],
   "source": []
  },
  {
   "cell_type": "markdown",
   "metadata": {},
   "source": [
    "## Exercise 8"
   ]
  },
  {
   "cell_type": "code",
   "execution_count": null,
   "metadata": {},
   "outputs": [],
   "source": []
  },
  {
   "cell_type": "code",
   "execution_count": null,
   "metadata": {},
   "outputs": [],
   "source": []
  },
  {
   "cell_type": "markdown",
   "metadata": {},
   "source": [
    "## Exercise 9"
   ]
  },
  {
   "cell_type": "code",
   "execution_count": null,
   "metadata": {},
   "outputs": [],
   "source": []
  },
  {
   "cell_type": "code",
   "execution_count": null,
   "metadata": {},
   "outputs": [],
   "source": []
  }
 ],
 "metadata": {
  "kernelspec": {
   "display_name": "Python [conda env:AML]",
   "language": "python",
   "name": "conda-env-AML-py"
  },
  "language_info": {
   "codemirror_mode": {
    "name": "ipython",
    "version": 3
   },
   "file_extension": ".py",
   "mimetype": "text/x-python",
   "name": "python",
   "nbconvert_exporter": "python",
   "pygments_lexer": "ipython3",
   "version": "3.6.8"
  }
 },
 "nbformat": 4,
 "nbformat_minor": 4
}
